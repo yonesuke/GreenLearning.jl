{
 "cells": [
  {
   "cell_type": "code",
   "execution_count": null,
   "source": [
    "using Flux\n",
    "using Flux.Data: DataLoader\n",
    "using BSON: @save, @load # for data saving\n",
    "using ProgressMeter\n",
    "using LinearAlgebra\n",
    "using LaTeXStrings\n",
    "using Plots; gr()\n",
    "using MAT"
   ],
   "outputs": [],
   "metadata": {}
  },
  {
   "cell_type": "code",
   "execution_count": null,
   "source": [
    "file = matopen(\"../greenlearning/examples/datasets/laplace.mat\")\n",
    "varnames = collect(names(file))\n",
    "for varname in varnames\n",
    "    val = read(file, varname)\n",
    "    # eval(parse(\"$varname=$val\"))\n",
    "    @eval $(Symbol(varname)) = $val\n",
    "end\n",
    "close(file)\n",
    "println(varnames)\n",
    "X = reshape(X, 100)\n",
    "Y = reshape(Y, 200);"
   ],
   "outputs": [],
   "metadata": {}
  },
  {
   "cell_type": "code",
   "execution_count": null,
   "source": [
    "# number of data: 100\n",
    "p1 = begin\n",
    "    plot(xlim=(0,1), ylim=(-1,1), title=L\"u(x)\")\n",
    "    plot!(X, U, label=\"\", c=\"gray\", alpha=0.2)\n",
    "    plot!(X, U_hom, label=\"homogeneous\", lw=5) \n",
    "end\n",
    "p2 = begin\n",
    "    plot(xlim=(0,1), title=L\"f(x)\")\n",
    "    plot!(Y, F, label=\"\", c=\"gray\", alpha=0.2)\n",
    "end\n",
    "plot(p1, p2, size=(1200,400))"
   ],
   "outputs": [],
   "metadata": {}
  },
  {
   "cell_type": "code",
   "execution_count": null,
   "source": [
    "hidden_size = 50\n",
    "G_network = Chain(\n",
    "    Dense(2, hidden_size, relu),\n",
    "    Dense(hidden_size, hidden_size, relu),\n",
    "    Dense(hidden_size, hidden_size, relu),\n",
    "    Dense(hidden_size, hidden_size, relu),\n",
    "    Dense(hidden_size, 1)\n",
    ")\n",
    "U_hom_network = Chain(\n",
    "    Dense(1, hidden_size, relu),\n",
    "    Dense(hidden_size, hidden_size, relu),\n",
    "    Dense(hidden_size, hidden_size, relu),\n",
    "    Dense(hidden_size, hidden_size, relu),\n",
    "    Dense(hidden_size, 1)\n",
    ")\n",
    "parameters = Flux.params(G_network, U_hom_network);"
   ],
   "outputs": [],
   "metadata": {}
  },
  {
   "cell_type": "code",
   "execution_count": null,
   "source": [
    "batch_size = 20\n",
    "train_loader = DataLoader((U, F), batchsize=batch_size, shuffle=true);"
   ],
   "outputs": [],
   "metadata": {}
  },
  {
   "cell_type": "code",
   "execution_count": null,
   "source": [
    "function loss(U_train, F_train)\n",
    "    l = 0.0\n",
    "    U_hom_predict = [U_hom_network([x])[1] for x in X]\n",
    "    # G_predict = [G_network([x,y])[1] for x in X, y in Y]\n",
    "    G_predict = [[G_network([x,y])[1] for x in X] for y in Y]\n",
    "    G_predict = hcat(G_predict...)\n",
    "    num = size(U_train, 2)\n",
    "    for n in 1:num\n",
    "        @views u = U_train[:,n] # 100×1\n",
    "        @views f = F_train[:,n] # 200×1\n",
    "        Gf = dy*G_predict*(trapezoidal_y.*f)\n",
    "        integ = (u-U_hom_predict-Gf).^2\n",
    "        loss_u = dx*dot(integ, trapezoidal_x)\n",
    "        u_L2 = dx*dot(u.^2, trapezoidal_x)\n",
    "        l += loss_u/u_L2\n",
    "    end\n",
    "    return l/num\n",
    "end"
   ],
   "outputs": [],
   "metadata": {}
  },
  {
   "cell_type": "code",
   "execution_count": null,
   "source": [
    "dx = X[2]-X[1]\n",
    "dy = Y[2]-Y[1]\n",
    "Nu = length(X)\n",
    "Nf = length(Y)\n",
    "trapezoidal_x = ones(Nu)\n",
    "trapezoidal_x[begin] = 0.5\n",
    "trapezoidal_x[end] = 0.5\n",
    "trapezoidal_y = ones(Nf)\n",
    "trapezoidal_y[begin] = 0.5\n",
    "trapezoidal_y[end] = 0.5"
   ],
   "outputs": [],
   "metadata": {}
  },
  {
   "cell_type": "code",
   "execution_count": null,
   "source": [
    "epochs = 20"
   ],
   "outputs": [],
   "metadata": {}
  },
  {
   "cell_type": "code",
   "execution_count": null,
   "source": [
    "@showprogress for epoch in 1:epochs\n",
    "    for (U_train, F_train) in train_loader\n",
    "        gs = gradient(()->loss(U_train, F_train), parameters)\n",
    "        Flux.Optimise.update!(opt, parameters, gs)\n",
    "    end\n",
    "end"
   ],
   "outputs": [],
   "metadata": {}
  },
  {
   "cell_type": "code",
   "execution_count": null,
   "source": [
    "xs = 0:0.01:1\n",
    "G_kernel = [G_network([x,y])[1] for x in xs, y in xs]\n",
    "p1 = heatmap(xs, xs, G_kernel, title=\"Learned green function\")\n",
    "\n",
    "function laplace_exact_kernel(x,y)\n",
    "    if x>y\n",
    "        return y*(1-x)\n",
    "    else\n",
    "        return x*(1-y)\n",
    "    end\n",
    "end\n",
    "G_exact = [laplace_exact_kernel(x,y) for x in xs, y in xs]\n",
    "p2 = heatmap(xs, xs, G_exact, title=\"Exact green function\")\n",
    "plot(p1, p2, size=(1200,400))"
   ],
   "outputs": [],
   "metadata": {}
  },
  {
   "cell_type": "code",
   "execution_count": null,
   "source": [
    "plot(p1, p2, size=(1200,400))\n",
    "savefig(\"laplace.png\")"
   ],
   "outputs": [],
   "metadata": {}
  },
  {
   "cell_type": "code",
   "execution_count": null,
   "source": [
    "@save \"test.bson\" G_network U_hom_network opt"
   ],
   "outputs": [],
   "metadata": {}
  },
  {
   "cell_type": "code",
   "execution_count": null,
   "source": [
    "@load \"laplace.bson\" G_network U_hom_network opt"
   ],
   "outputs": [],
   "metadata": {}
  },
  {
   "cell_type": "code",
   "execution_count": null,
   "source": [],
   "outputs": [],
   "metadata": {}
  }
 ],
 "metadata": {
  "orig_nbformat": 4,
  "language_info": {
   "file_extension": ".jl",
   "name": "julia",
   "mimetype": "application/julia",
   "version": "1.5.3"
  },
  "kernelspec": {
   "name": "julia-1.5",
   "display_name": "Julia 1.5.3",
   "language": "julia"
  }
 },
 "nbformat": 4,
 "nbformat_minor": 2
}